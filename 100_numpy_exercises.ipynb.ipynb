{
 "cells": [
  {
   "cell_type": "markdown",
   "id": "4841f846",
   "metadata": {},
   "source": [
    "1. Import the numpy package under the name np"
   ]
  },
  {
   "cell_type": "code",
   "execution_count": 1,
   "id": "cbfc139f",
   "metadata": {},
   "outputs": [],
   "source": [
    "import numpy as np"
   ]
  },
  {
   "cell_type": "markdown",
   "id": "d654e20c",
   "metadata": {},
   "source": [
    "2. Print the numpy version and the configuration"
   ]
  },
  {
   "cell_type": "code",
   "execution_count": 2,
   "id": "b1094b74",
   "metadata": {},
   "outputs": [
    {
     "name": "stdout",
     "output_type": "stream",
     "text": [
      "NumPy version: 2.2.2\n",
      "{\n",
      "  \"Compilers\": {\n",
      "    \"c\": {\n",
      "      \"name\": \"msvc\",\n",
      "      \"linker\": \"link\",\n",
      "      \"version\": \"19.29.30157\",\n",
      "      \"commands\": \"cl\"\n",
      "    },\n",
      "    \"cython\": {\n",
      "      \"name\": \"cython\",\n",
      "      \"linker\": \"cython\",\n",
      "      \"version\": \"3.0.11\",\n",
      "      \"commands\": \"cython\"\n",
      "    },\n",
      "    \"c++\": {\n",
      "      \"name\": \"msvc\",\n",
      "      \"linker\": \"link\",\n",
      "      \"version\": \"19.29.30157\",\n",
      "      \"commands\": \"cl\"\n",
      "    }\n",
      "  },\n",
      "  \"Machine Information\": {\n",
      "    \"host\": {\n",
      "      \"cpu\": \"x86_64\",\n",
      "      \"family\": \"x86_64\",\n",
      "      \"endian\": \"little\",\n",
      "      \"system\": \"windows\"\n",
      "    },\n",
      "    \"build\": {\n",
      "      \"cpu\": \"x86_64\",\n",
      "      \"family\": \"x86_64\",\n",
      "      \"endian\": \"little\",\n",
      "      \"system\": \"windows\"\n",
      "    }\n",
      "  },\n",
      "  \"Build Dependencies\": {\n",
      "    \"blas\": {\n",
      "      \"name\": \"scipy-openblas\",\n",
      "      \"found\": true,\n",
      "      \"version\": \"0.3.28\",\n",
      "      \"detection method\": \"pkgconfig\",\n",
      "      \"include directory\": \"C:/Users/runneradmin/AppData/Local/Temp/cibw-run-_1vgc7re/cp312-win_amd64/build/venv/Lib/site-packages/scipy_openblas64/include\",\n",
      "      \"lib directory\": \"C:/Users/runneradmin/AppData/Local/Temp/cibw-run-_1vgc7re/cp312-win_amd64/build/venv/Lib/site-packages/scipy_openblas64/lib\",\n",
      "      \"openblas configuration\": \"OpenBLAS 0.3.28  USE64BITINT DYNAMIC_ARCH NO_AFFINITY Haswell MAX_THREADS=24\",\n",
      "      \"pc file directory\": \"D:/a/numpy/numpy/.openblas\"\n",
      "    },\n",
      "    \"lapack\": {\n",
      "      \"name\": \"scipy-openblas\",\n",
      "      \"found\": true,\n",
      "      \"version\": \"0.3.28\",\n",
      "      \"detection method\": \"pkgconfig\",\n",
      "      \"include directory\": \"C:/Users/runneradmin/AppData/Local/Temp/cibw-run-_1vgc7re/cp312-win_amd64/build/venv/Lib/site-packages/scipy_openblas64/include\",\n",
      "      \"lib directory\": \"C:/Users/runneradmin/AppData/Local/Temp/cibw-run-_1vgc7re/cp312-win_amd64/build/venv/Lib/site-packages/scipy_openblas64/lib\",\n",
      "      \"openblas configuration\": \"OpenBLAS 0.3.28  USE64BITINT DYNAMIC_ARCH NO_AFFINITY Haswell MAX_THREADS=24\",\n",
      "      \"pc file directory\": \"D:/a/numpy/numpy/.openblas\"\n",
      "    }\n",
      "  },\n",
      "  \"Python Information\": {\n",
      "    \"path\": \"C:\\\\Users\\\\runneradmin\\\\AppData\\\\Local\\\\Temp\\\\build-env-e_e39y2o\\\\Scripts\\\\python.exe\",\n",
      "    \"version\": \"3.12\"\n",
      "  },\n",
      "  \"SIMD Extensions\": {\n",
      "    \"baseline\": [\n",
      "      \"SSE\",\n",
      "      \"SSE2\",\n",
      "      \"SSE3\"\n",
      "    ],\n",
      "    \"found\": [\n",
      "      \"SSSE3\",\n",
      "      \"SSE41\",\n",
      "      \"POPCNT\",\n",
      "      \"SSE42\",\n",
      "      \"AVX\",\n",
      "      \"F16C\",\n",
      "      \"FMA3\",\n",
      "      \"AVX2\"\n",
      "    ],\n",
      "    \"not found\": [\n",
      "      \"AVX512F\",\n",
      "      \"AVX512CD\",\n",
      "      \"AVX512_SKX\",\n",
      "      \"AVX512_CLX\",\n",
      "      \"AVX512_CNL\",\n",
      "      \"AVX512_ICL\"\n",
      "    ]\n",
      "  }\n",
      "}\n"
     ]
    },
    {
     "name": "stderr",
     "output_type": "stream",
     "text": [
      "c:\\Users\\windo\\conda environment\\conda2\\Lib\\site-packages\\numpy\\__config__.py:155: UserWarning: Install `pyyaml` for better output\n",
      "  warnings.warn(\"Install `pyyaml` for better output\", stacklevel=1)\n"
     ]
    }
   ],
   "source": [
    "import numpy as np\n",
    "\n",
    "# Print version\n",
    "print(\"NumPy version:\", np.__version__)\n",
    "\n",
    "# Print full configuration\n",
    "np.show_config()\n"
   ]
  },
  {
   "cell_type": "markdown",
   "id": "8d359fba",
   "metadata": {},
   "source": [
    "3. Create a null vector of size 10 "
   ]
  },
  {
   "cell_type": "code",
   "execution_count": 3,
   "id": "c54fe657",
   "metadata": {},
   "outputs": [
    {
     "name": "stdout",
     "output_type": "stream",
     "text": [
      "[0. 0. 0. 0. 0. 0. 0. 0. 0. 0.]\n"
     ]
    }
   ],
   "source": [
    "import numpy as np\n",
    "\n",
    "null_vector = np.zeros(10)\n",
    "print(null_vector)\n"
   ]
  },
  {
   "cell_type": "markdown",
   "id": "0c6fa497",
   "metadata": {},
   "source": [
    "4. How to find the memory size of any array"
   ]
  },
  {
   "cell_type": "code",
   "execution_count": 4,
   "id": "660593c3",
   "metadata": {},
   "outputs": [
    {
     "name": "stdout",
     "output_type": "stream",
     "text": [
      "Memory size: 200 bytes\n"
     ]
    }
   ],
   "source": [
    "import numpy as np\n",
    "\n",
    "# Example array\n",
    "arr = np.zeros((5, 5))\n",
    "\n",
    "# Memory size in bytes\n",
    "print(\"Memory size:\", arr.nbytes, \"bytes\")\n"
   ]
  },
  {
   "cell_type": "markdown",
   "id": "f366a82c",
   "metadata": {},
   "source": [
    "5. How to get the documentation of the numpy add function from the command line?"
   ]
  },
  {
   "cell_type": "code",
   "execution_count": 5,
   "id": "fd6b0008",
   "metadata": {},
   "outputs": [
    {
     "name": "stdout",
     "output_type": "stream",
     "text": [
      "Help on ufunc in module numpy:\n",
      "\n",
      "add = <ufunc 'add'>\n",
      "    add(x1, x2, /, out=None, *, where=True, casting='same_kind', order='K', dtype=None, subok=True[, signature])\n",
      "\n",
      "    Add arguments element-wise.\n",
      "\n",
      "    Parameters\n",
      "    ----------\n",
      "    x1, x2 : array_like\n",
      "        The arrays to be added.\n",
      "        If ``x1.shape != x2.shape``, they must be broadcastable to a common\n",
      "        shape (which becomes the shape of the output).\n",
      "    out : ndarray, None, or tuple of ndarray and None, optional\n",
      "        A location into which the result is stored. If provided, it must have\n",
      "        a shape that the inputs broadcast to. If not provided or None,\n",
      "        a freshly-allocated array is returned. A tuple (possible only as a\n",
      "        keyword argument) must have length equal to the number of outputs.\n",
      "    where : array_like, optional\n",
      "        This condition is broadcast over the input. At locations where the\n",
      "        condition is True, the `out` array will be set to the ufunc result.\n",
      "        Elsewhere, the `out` array will retain its original value.\n",
      "        Note that if an uninitialized `out` array is created via the default\n",
      "        ``out=None``, locations within it where the condition is False will\n",
      "        remain uninitialized.\n",
      "    **kwargs\n",
      "        For other keyword-only arguments, see the\n",
      "        :ref:`ufunc docs <ufuncs.kwargs>`.\n",
      "\n",
      "    Returns\n",
      "    -------\n",
      "    add : ndarray or scalar\n",
      "        The sum of `x1` and `x2`, element-wise.\n",
      "        This is a scalar if both `x1` and `x2` are scalars.\n",
      "\n",
      "    Notes\n",
      "    -----\n",
      "    Equivalent to `x1` + `x2` in terms of array broadcasting.\n",
      "\n",
      "    Examples\n",
      "    --------\n",
      "    >>> import numpy as np\n",
      "    >>> np.add(1.0, 4.0)\n",
      "    5.0\n",
      "    >>> x1 = np.arange(9.0).reshape((3, 3))\n",
      "    >>> x2 = np.arange(3.0)\n",
      "    >>> np.add(x1, x2)\n",
      "    array([[  0.,   2.,   4.],\n",
      "           [  3.,   5.,   7.],\n",
      "           [  6.,   8.,  10.]])\n",
      "\n",
      "    The ``+`` operator can be used as a shorthand for ``np.add`` on ndarrays.\n",
      "\n",
      "    >>> x1 = np.arange(9.0).reshape((3, 3))\n",
      "    >>> x2 = np.arange(3.0)\n",
      "    >>> x1 + x2\n",
      "    array([[ 0.,  2.,  4.],\n",
      "           [ 3.,  5.,  7.],\n",
      "           [ 6.,  8., 10.]])\n",
      "\n"
     ]
    }
   ],
   "source": [
    "import numpy as np\n",
    "help(np.add)\n"
   ]
  },
  {
   "cell_type": "markdown",
   "id": "07bf3ad6",
   "metadata": {},
   "source": [
    "6. Create a null vector of size 10 but the fifth value which is 1"
   ]
  },
  {
   "cell_type": "code",
   "execution_count": 6,
   "id": "69e61440",
   "metadata": {},
   "outputs": [
    {
     "name": "stdout",
     "output_type": "stream",
     "text": [
      "[0. 0. 0. 0. 1. 0. 0. 0. 0. 0.]\n"
     ]
    }
   ],
   "source": [
    "import numpy as np\n",
    "\n",
    "vec = np.zeros(10)   # null vector of size 10\n",
    "vec[4] = 1           # set the 5th element (index 4) to 1\n",
    "print(vec)\n"
   ]
  },
  {
   "cell_type": "markdown",
   "id": "de154259",
   "metadata": {},
   "source": [
    "7. Create a vector with values ranging from 10 to 49"
   ]
  },
  {
   "cell_type": "code",
   "execution_count": 7,
   "id": "13ae7409",
   "metadata": {},
   "outputs": [
    {
     "name": "stdout",
     "output_type": "stream",
     "text": [
      "[10 11 12 13 14 15 16 17 18 19 20 21 22 23 24 25 26 27 28 29 30 31 32 33\n",
      " 34 35 36 37 38 39 40 41 42 43 44 45 46 47 48 49]\n"
     ]
    }
   ],
   "source": [
    "import numpy as np\n",
    "\n",
    "vec = np.arange(10, 50)\n",
    "print(vec)\n"
   ]
  },
  {
   "cell_type": "markdown",
   "id": "da194239",
   "metadata": {},
   "source": [
    "8. Reverse a vector (first element becomes last)"
   ]
  },
  {
   "cell_type": "code",
   "execution_count": 8,
   "id": "4719319d",
   "metadata": {},
   "outputs": [
    {
     "name": "stdout",
     "output_type": "stream",
     "text": [
      "[49 48 47 46 45 44 43 42 41 40 39 38 37 36 35 34 33 32 31 30 29 28 27 26\n",
      " 25 24 23 22 21 20 19 18 17 16 15 14 13 12 11 10]\n"
     ]
    }
   ],
   "source": [
    "import numpy as np\n",
    "\n",
    "vec = np.arange(10, 50)   # example vector 10 → 49\n",
    "reversed_vec = vec[::-1]  # reverse the order\n",
    "print(reversed_vec)\n"
   ]
  },
  {
   "cell_type": "markdown",
   "id": "6840b85a",
   "metadata": {},
   "source": [
    "9. Create a 3x3 matrix with values ranging from 0 to 8"
   ]
  },
  {
   "cell_type": "code",
   "execution_count": 1,
   "id": "65e5716d",
   "metadata": {},
   "outputs": [
    {
     "data": {
      "text/plain": [
       "[[0, 1, 2], [3, 4, 5], [6, 7, 8]]"
      ]
     },
     "execution_count": 1,
     "metadata": {},
     "output_type": "execute_result"
    }
   ],
   "source": [
    "[[0, 1, 2],\n",
    " [3, 4, 5],\n",
    " [6, 7, 8]]\n"
   ]
  },
  {
   "cell_type": "markdown",
   "id": "f696dffe",
   "metadata": {},
   "source": [
    "10. Find indices of non-zero elements from [1,2,0,0,4,0]"
   ]
  },
  {
   "cell_type": "code",
   "execution_count": 2,
   "id": "3ff8ba58",
   "metadata": {},
   "outputs": [
    {
     "name": "stdout",
     "output_type": "stream",
     "text": [
      "[0 1 4]\n"
     ]
    }
   ],
   "source": [
    "import numpy as np\n",
    "arr = np.array([1, 2, 0, 0, 4, 0])\n",
    "indices = np.nonzero(arr)[0]\n",
    "print(indices)  # Output: [0 1 4]\n"
   ]
  },
  {
   "cell_type": "markdown",
   "id": "b5433b5e",
   "metadata": {},
   "source": [
    "11. Create a 3x3 identity matrix"
   ]
  },
  {
   "cell_type": "code",
   "execution_count": 3,
   "id": "8f8cf387",
   "metadata": {},
   "outputs": [
    {
     "data": {
      "text/plain": [
       "[[1, 0, 0], [0, 1, 0], [0, 0, 1]]"
      ]
     },
     "execution_count": 3,
     "metadata": {},
     "output_type": "execute_result"
    }
   ],
   "source": [
    "[[1, 0, 0],\n",
    " [0, 1, 0],\n",
    " [0, 0, 1]]\n"
   ]
  },
  {
   "cell_type": "markdown",
   "id": "a71bd025",
   "metadata": {},
   "source": [
    "12. Create a 3x3x3 array with random values"
   ]
  },
  {
   "cell_type": "code",
   "execution_count": 4,
   "id": "747f7a75",
   "metadata": {},
   "outputs": [
    {
     "name": "stdout",
     "output_type": "stream",
     "text": [
      "[[[0.26483212 0.43178395 0.17063617]\n",
      "  [0.77421345 0.82926098 0.88158278]\n",
      "  [0.98950344 0.11204383 0.19907749]]\n",
      "\n",
      " [[0.35370924 0.95117899 0.76705359]\n",
      "  [0.95172905 0.69052937 0.35158543]\n",
      "  [0.47123165 0.50868232 0.87256041]]\n",
      "\n",
      " [[0.23004888 0.7638194  0.7169396 ]\n",
      "  [0.67357945 0.55005758 0.77402921]\n",
      "  [0.85322442 0.16620724 0.01438502]]]\n"
     ]
    }
   ],
   "source": [
    "import numpy as np\n",
    "\n",
    "random_array = np.random.rand(3, 3, 3)\n",
    "print(random_array)\n"
   ]
  },
  {
   "cell_type": "markdown",
   "id": "8f794f42",
   "metadata": {},
   "source": [
    "13. Create a 10x10 array with random values and find the minimum and maximum values"
   ]
  },
  {
   "cell_type": "code",
   "execution_count": 5,
   "id": "c3365bb4",
   "metadata": {},
   "outputs": [
    {
     "name": "stdout",
     "output_type": "stream",
     "text": [
      "Random 10x10 Array:\n",
      " [[0.50773607 0.54280654 0.01899367 0.28823974 0.72292194 0.52437085\n",
      "  0.4759569  0.92004427 0.61833792 0.49900628]\n",
      " [0.38489345 0.91223228 0.31312846 0.2019496  0.65763196 0.37367298\n",
      "  0.96343122 0.03219399 0.77636737 0.57959396]\n",
      " [0.69298114 0.0532208  0.47696653 0.06362901 0.3294282  0.84890519\n",
      "  0.9469143  0.53985417 0.61488584 0.75867687]\n",
      " [0.369911   0.25822007 0.69175109 0.64027539 0.74627986 0.11355513\n",
      "  0.82493551 0.45295981 0.83809853 0.02860292]\n",
      " [0.12100468 0.44171614 0.96680494 0.95932647 0.03548897 0.23159813\n",
      "  0.15881609 0.09596344 0.1366256  0.79834229]\n",
      " [0.98110122 0.36236278 0.21408593 0.44115655 0.5784389  0.33986833\n",
      "  0.41865232 0.08953067 0.17932202 0.18276057]\n",
      " [0.93790975 0.66444452 0.45655528 0.34430179 0.51684366 0.77855624\n",
      "  0.01789613 0.53318103 0.78549513 0.31255981]\n",
      " [0.43206336 0.62742649 0.91372671 0.67346089 0.53946879 0.33367602\n",
      "  0.09647886 0.4617906  0.05802724 0.11525253]\n",
      " [0.71760014 0.36211264 0.73446135 0.98733025 0.965733   0.75515406\n",
      "  0.31183587 0.53093971 0.93495754 0.40774042]\n",
      " [0.15667995 0.01151281 0.79724412 0.50299723 0.45090434 0.56592232\n",
      "  0.89139757 0.7693926  0.34869113 0.29368139]]\n",
      "\n",
      "Minimum Value: 0.01151280759990736\n",
      "Maximum Value: 0.9873302466418362\n"
     ]
    }
   ],
   "source": [
    "import numpy as np\n",
    "\n",
    "# Create a 10x10 array with random values between 0 and 1\n",
    "array = np.random.rand(10, 10)\n",
    "\n",
    "# Find the minimum and maximum values\n",
    "min_val = np.min(array)\n",
    "max_val = np.max(array)\n",
    "\n",
    "print(\"Random 10x10 Array:\\n\", array)\n",
    "print(\"\\nMinimum Value:\", min_val)\n",
    "print(\"Maximum Value:\", max_val)\n"
   ]
  },
  {
   "cell_type": "markdown",
   "id": "2ee745a3",
   "metadata": {},
   "source": [
    "14. Create a random vector of size 30 and find the mean value"
   ]
  },
  {
   "cell_type": "code",
   "execution_count": 6,
   "id": "dc2bafc7",
   "metadata": {},
   "outputs": [
    {
     "name": "stdout",
     "output_type": "stream",
     "text": [
      "Random Vector:\n",
      " [0.5328185  0.65901378 0.88225044 0.28256222 0.18722699 0.10401084\n",
      " 0.03769063 0.07847208 0.83590768 0.4593244  0.46112571 0.52048179\n",
      " 0.29488789 0.17390917 0.36676766 0.46425058 0.67350823 0.46300113\n",
      " 0.45338871 0.91402317 0.34553809 0.68770544 0.50737104 0.86884373\n",
      " 0.39893386 0.04462892 0.73819345 0.0439385  0.88965221 0.06376598]\n",
      "\n",
      "Mean Value: 0.44777309459091935\n"
     ]
    }
   ],
   "source": [
    "import numpy as np\n",
    "\n",
    "# Create a random vector of size 30\n",
    "vector = np.random.rand(30)\n",
    "\n",
    "# Calculate the mean value\n",
    "mean_value = np.mean(vector)\n",
    "\n",
    "print(\"Random Vector:\\n\", vector)\n",
    "print(\"\\nMean Value:\", mean_value)\n"
   ]
  },
  {
   "cell_type": "markdown",
   "id": "952a9583",
   "metadata": {},
   "source": [
    "15. Create a 2d array with 1 on the border and 0 inside"
   ]
  },
  {
   "cell_type": "code",
   "execution_count": 7,
   "id": "aaec6fbc",
   "metadata": {},
   "outputs": [
    {
     "name": "stdout",
     "output_type": "stream",
     "text": [
      "[[1 1 1 1 1]\n",
      " [1 0 0 0 1]\n",
      " [1 0 0 0 1]\n",
      " [1 0 0 0 1]\n",
      " [1 1 1 1 1]]\n"
     ]
    }
   ],
   "source": [
    "import numpy as np\n",
    "\n",
    "# Create a 5x5 array filled with ones\n",
    "array = np.ones((5, 5), dtype=int)\n",
    "\n",
    "# Set the inner part to zeros\n",
    "array[1:-1, 1:-1] = 0\n",
    "\n",
    "print(array)\n"
   ]
  },
  {
   "cell_type": "markdown",
   "id": "577b7417",
   "metadata": {},
   "source": [
    "16. How to add a border (filled with 0's) around an existing array?"
   ]
  },
  {
   "cell_type": "code",
   "execution_count": 9,
   "id": "48354f30",
   "metadata": {},
   "outputs": [
    {
     "name": "stdout",
     "output_type": "stream",
     "text": [
      "[[0 0 0 0 0]\n",
      " [0 1 1 1 0]\n",
      " [0 1 1 1 0]\n",
      " [0 1 1 1 0]\n",
      " [0 0 0 0 0]]\n"
     ]
    }
   ],
   "source": [
    "import numpy as np\n",
    "\n",
    "# Original array\n",
    "array = np.ones((3, 3), dtype=int)\n",
    "\n",
    "# Add a border of 0s\n",
    "bordered_array = np.pad(array, pad_width=1, mode='constant', constant_values=0)\n",
    "\n",
    "print(bordered_array)\n"
   ]
  },
  {
   "cell_type": "code",
   "execution_count": 11,
   "id": "0e825d59",
   "metadata": {},
   "outputs": [
    {
     "name": "stdout",
     "output_type": "stream",
     "text": [
      "0 * np.nan: nan\n",
      "np.nan == np.nan: False\n",
      "np.inf > np.nan: False\n",
      "np.nan - np.nan: nan\n",
      "np.nan in set([np.nan]): True\n",
      "0.3 == 3 * 0.1: False\n"
     ]
    }
   ],
   "source": [
    "# Explanation of each expression:\n",
    "\n",
    "# 1. 0 * np.nan\n",
    "# Any operation with np.nan results in np.nan, so this will output nan.\n",
    "print(\"0 * np.nan:\", 0 * np.nan)  # Output: nan\n",
    "\n",
    "# 2. np.nan == np.nan\n",
    "# np.nan is not equal to anything, even itself, so this will output False.\n",
    "print(\"np.nan == np.nan:\", np.nan == np.nan)  # Output: False\n",
    "\n",
    "# 3. np.inf > np.nan\n",
    "# Comparisons with np.nan always return False.\n",
    "print(\"np.inf > np.nan:\", np.inf > np.nan)  # Output: False\n",
    "\n",
    "# 4. np.nan - np.nan\n",
    "# Any arithmetic operation with np.nan results in np.nan.\n",
    "print(\"np.nan - np.nan:\", np.nan - np.nan)  # Output: nan\n",
    "\n",
    "# 5. np.nan in set([np.nan])\n",
    "# np.nan is not equal to itself, but 'in' checks for object identity in sets, so this will output True.\n",
    "print(\"np.nan in set([np.nan]):\", np.nan in set([np.nan]))  # Output: True\n",
    "\n",
    "# 6. 0.3 == 3 * 0.1\n",
    "# Due to floating point precision, this may be False.\n",
    "print(\"0.3 == 3 * 0.1:\", 0.3 == 3 * 0.1)  # Output: False"
   ]
  },
  {
   "cell_type": "markdown",
   "id": "a5b7af3a",
   "metadata": {},
   "source": [
    "18. Create a 5x5 matrix with values 1,2,3,4 just below the diagonal"
   ]
  },
  {
   "cell_type": "code",
   "execution_count": 12,
   "id": "fe157590",
   "metadata": {},
   "outputs": [
    {
     "name": "stdout",
     "output_type": "stream",
     "text": [
      "[[0 0 0 0 0]\n",
      " [1 0 0 0 0]\n",
      " [0 2 0 0 0]\n",
      " [0 0 3 0 0]\n",
      " [0 0 0 4 0]]\n"
     ]
    }
   ],
   "source": [
    "import numpy as np\n",
    "\n",
    "# Create a 5x5 matrix with values 1,2,3,4 just below the diagonal\n",
    "matrix = np.diag([1, 2, 3, 4], k=-1)\n",
    "print(matrix)"
   ]
  },
  {
   "cell_type": "markdown",
   "id": "d878069f",
   "metadata": {},
   "source": [
    "19. Create a 8x8 matrix and fill it with a checkerboard pattern"
   ]
  },
  {
   "cell_type": "code",
   "execution_count": 13,
   "id": "418aec96",
   "metadata": {},
   "outputs": [
    {
     "name": "stdout",
     "output_type": "stream",
     "text": [
      "[[0 1 0 1 0 1 0 1]\n",
      " [1 0 1 0 1 0 1 0]\n",
      " [0 1 0 1 0 1 0 1]\n",
      " [1 0 1 0 1 0 1 0]\n",
      " [0 1 0 1 0 1 0 1]\n",
      " [1 0 1 0 1 0 1 0]\n",
      " [0 1 0 1 0 1 0 1]\n",
      " [1 0 1 0 1 0 1 0]]\n"
     ]
    }
   ],
   "source": [
    "import numpy as np\n",
    "\n",
    "# Create an 8x8 matrix of zeros\n",
    "checkerboard = np.zeros((8, 8), dtype=int)\n",
    "\n",
    "# Fill with checkerboard pattern\n",
    "checkerboard[1::2, ::2] = 1\n",
    "checkerboard[::2, 1::2] = 1\n",
    "\n",
    "print(checkerboard)"
   ]
  },
  {
   "cell_type": "markdown",
   "id": "70b8651a",
   "metadata": {},
   "source": [
    "20. Consider a (6,7,8) shape array, what is the index (x,y,z) of the 100th element?"
   ]
  },
  {
   "cell_type": "code",
   "execution_count": 14,
   "id": "b7b7dc6c",
   "metadata": {},
   "outputs": [
    {
     "name": "stdout",
     "output_type": "stream",
     "text": [
      "The index (x, y, z) of the 100th element is: (np.int64(1), np.int64(5), np.int64(4))\n"
     ]
    }
   ],
   "source": [
    "import numpy as np\n",
    "\n",
    "# For a (6,7,8) array, find the index of the 100th element (0-based indexing)\n",
    "shape = (6, 7, 8)\n",
    "element_number = 100  # 0-based index\n",
    "\n",
    "index = np.unravel_index(element_number, shape)\n",
    "print(\"The index (x, y, z) of the 100th element is:\", index)"
   ]
  },
  {
   "cell_type": "markdown",
   "id": "764e1dba",
   "metadata": {},
   "source": [
    "21. Create a checkerboard 8x8 matrix using the tile function"
   ]
  },
  {
   "cell_type": "code",
   "execution_count": 15,
   "id": "a9055d14",
   "metadata": {},
   "outputs": [
    {
     "name": "stdout",
     "output_type": "stream",
     "text": [
      "[[0 1 0 1 0 1 0 1]\n",
      " [1 0 1 0 1 0 1 0]\n",
      " [0 1 0 1 0 1 0 1]\n",
      " [1 0 1 0 1 0 1 0]\n",
      " [0 1 0 1 0 1 0 1]\n",
      " [1 0 1 0 1 0 1 0]\n",
      " [0 1 0 1 0 1 0 1]\n",
      " [1 0 1 0 1 0 1 0]]\n"
     ]
    }
   ],
   "source": [
    "import numpy as np\n",
    "\n",
    "# Create a 2x2 checkerboard pattern\n",
    "pattern = np.array([[0, 1], [1, 0]])\n",
    "\n",
    "# Tile the pattern to create an 8x8 checkerboard matrix\n",
    "checkerboard_tile = np.tile(pattern, (4, 4))\n",
    "\n",
    "print(checkerboard_tile)"
   ]
  },
  {
   "cell_type": "markdown",
   "id": "6fae2c45",
   "metadata": {},
   "source": [
    "22. Normalize a 5x5 random matrix"
   ]
  },
  {
   "cell_type": "code",
   "execution_count": 16,
   "id": "5a0b5a8f",
   "metadata": {},
   "outputs": [
    {
     "name": "stdout",
     "output_type": "stream",
     "text": [
      "Original 5x5 Matrix:\n",
      " [[0.61947916 0.97157504 0.42594756 0.97823909 0.0328954 ]\n",
      " [0.44458464 0.69697491 0.32421828 0.40968438 0.83984602]\n",
      " [0.19123355 0.7092098  0.79321732 0.66494822 0.57952324]\n",
      " [0.49451993 0.02700385 0.68921349 0.984886   0.63964489]\n",
      " [0.1500419  0.98937482 0.71481855 0.69234379 0.3315225 ]]\n",
      "\n",
      "Normalized 5x5 Matrix:\n",
      " [[0.61564129 0.98150424 0.41454254 0.98842886 0.00612191]\n",
      " [0.43390835 0.69616715 0.30883562 0.39764346 0.84462457]\n",
      " [0.17065114 0.70888044 0.79617268 0.66288821 0.57412308]\n",
      " [0.48579611 0.         0.68810226 0.99533567 0.63659551]\n",
      " [0.12784888 1.         0.71470849 0.69135495 0.31642543]]\n"
     ]
    }
   ],
   "source": [
    "# Create a 5x5 random matrix\n",
    "matrix_5x5 = np.random.rand(5, 5)\n",
    "\n",
    "# Normalize the matrix: (matrix - min) / (max - min)\n",
    "normalized_matrix = (matrix_5x5 - np.min(matrix_5x5)) / (np.max(matrix_5x5) - np.min(matrix_5x5))\n",
    "\n",
    "print(\"Original 5x5 Matrix:\\n\", matrix_5x5)\n",
    "print(\"\\nNormalized 5x5 Matrix:\\n\", normalized_matrix)"
   ]
  },
  {
   "cell_type": "markdown",
   "id": "d7af046e",
   "metadata": {},
   "source": [
    "23. Create a custom dtype that describes a color as four unsigned bytes (RGBA)"
   ]
  },
  {
   "cell_type": "code",
   "execution_count": 17,
   "id": "49a7bb27",
   "metadata": {},
   "outputs": [
    {
     "name": "stdout",
     "output_type": "stream",
     "text": [
      "[(255,   0,   0, 255) (  0, 255,   0, 128) (  0,   0, 255,  64)]\n"
     ]
    }
   ],
   "source": [
    "import numpy as np\n",
    "\n",
    "# Define a custom dtype for RGBA color (4 unsigned bytes)\n",
    "rgba_dtype = np.dtype([('r', np.uint8), ('g', np.uint8), ('b', np.uint8), ('a', np.uint8)])\n",
    "\n",
    "# Example usage: create an array of colors\n",
    "colors = np.array([(255, 0, 0, 255), (0, 255, 0, 128), (0, 0, 255, 64)], dtype=rgba_dtype)\n",
    "print(colors)"
   ]
  },
  {
   "cell_type": "markdown",
   "id": "02f071c2",
   "metadata": {},
   "source": [
    "24. Multiply a 5x3 matrix by a 3x2 matrix (real matrix product)"
   ]
  },
  {
   "cell_type": "code",
   "execution_count": 18,
   "id": "394f7b63",
   "metadata": {},
   "outputs": [
    {
     "name": "stdout",
     "output_type": "stream",
     "text": [
      "5x3 Matrix (A):\n",
      " [[0.80804794 0.92640514 0.70535978]\n",
      " [0.16343572 0.98976003 0.87643319]\n",
      " [0.57268519 0.05509772 0.04336532]\n",
      " [0.77191946 0.16104094 0.80754164]\n",
      " [0.93396861 0.40691856 0.85046255]]\n",
      "\n",
      "3x2 Matrix (B):\n",
      " [[0.94627724 0.73531464]\n",
      " [0.22187938 0.32085671]\n",
      " [0.35177227 0.52855005]]\n",
      "\n",
      "Result of A x B:\n",
      " [[1.21831358 1.26423072]\n",
      " [0.68256773 0.90098662]\n",
      " [0.56939872 0.46170301]\n",
      " [1.05025223 1.04610091]\n",
      " [1.27324921 1.26683535]]\n"
     ]
    }
   ],
   "source": [
    "# Create a 5x3 matrix and a 3x2 matrix with random values\n",
    "A = np.random.rand(5, 3)\n",
    "B = np.random.rand(3, 2)\n",
    "\n",
    "# Perform real matrix multiplication\n",
    "result = np.dot(A, B)\n",
    "\n",
    "print(\"5x3 Matrix (A):\\n\", A)\n",
    "print(\"\\n3x2 Matrix (B):\\n\", B)\n",
    "print(\"\\nResult of A x B:\\n\", result)"
   ]
  },
  {
   "cell_type": "markdown",
   "id": "076b475f",
   "metadata": {},
   "source": [
    "25. Given a 1D array, negate all elements which are between 3 and 8, in place"
   ]
  },
  {
   "cell_type": "code",
   "execution_count": 19,
   "id": "fb2b9826",
   "metadata": {},
   "outputs": [
    {
     "name": "stdout",
     "output_type": "stream",
     "text": [
      "[ 1 -4 -6  9  2 -7 10]\n"
     ]
    }
   ],
   "source": [
    "import numpy as np\n",
    "\n",
    "# Example 1D array\n",
    "arr1d = np.array([1, 4, 6, 9, 2, 7, 10])\n",
    "\n",
    "# Negate all elements between 3 and 8 (inclusive of 3 and 8)\n",
    "arr1d[(arr1d > 3) & (arr1d < 8)] *= -1\n",
    "\n",
    "print(arr1d)"
   ]
  },
  {
   "cell_type": "markdown",
   "id": "1eb4fea4",
   "metadata": {},
   "source": [
    "26. What is the output of the following script?\n",
    "# Author: Jake VanderPlas\n",
    "\n",
    "print(sum(range(5),-1))\n",
    "from numpy import *\n",
    "print(sum(range(5),-1))"
   ]
  },
  {
   "cell_type": "code",
   "execution_count": 20,
   "id": "2c93143f",
   "metadata": {},
   "outputs": [
    {
     "name": "stdout",
     "output_type": "stream",
     "text": [
      "10\n",
      "10\n"
     ]
    }
   ],
   "source": [
    "from numpy import *\n",
    "\n",
    "# Output of the script:\n",
    "\n",
    "print(sum(range(5), -1))        # Built-in sum: sum([0,1,2,3,4], -1) = 10 + (-1) = 9\n",
    "\n",
    "print(sum(range(5), -1))        # numpy sum: sum([0,1,2,3,4], axis=-1) = [0,1,2,3,4] (no axis to sum over), so returns 10\n",
    "\n",
    "# So the output will be:\n",
    "# 9\n",
    "# 10"
   ]
  },
  {
   "cell_type": "markdown",
   "id": "fdae9882",
   "metadata": {},
   "source": [
    "27. Consider an integer vector Z, which of these expressions are legal? "
   ]
  },
  {
   "cell_type": "code",
   "execution_count": 22,
   "id": "666e3703",
   "metadata": {},
   "outputs": [
    {
     "name": "stdout",
     "output_type": "stream",
     "text": [
      "Z**Z: [        1         1         4        27       256      3125     46656\n",
      "    823543  16777216 387420489]\n",
      "2 << Z >> 2: [  0   1   2   4   8  16  32  64 128 256]\n",
      "1j*Z: [0.+0.j 0.+1.j 0.+2.j 0.+3.j 0.+4.j 0.+5.j 0.+6.j 0.+7.j 0.+8.j 0.+9.j]\n",
      "Z/1/1: [0. 1. 2. 3. 4. 5. 6. 7. 8. 9.]\n"
     ]
    }
   ],
   "source": [
    "# Check which of the following expressions are legal for the integer vector Z\n",
    "\n",
    "# 1. Z**Z\n",
    "expr1 = Z**Z  # Legal: element-wise power\n",
    "\n",
    "# 2. 2 << Z >> 2\n",
    "expr2 = 2 << Z >> 2  # Legal: bitwise shift operations\n",
    "\n",
    "# 3. Z <- Z\n",
    "# Not legal in Python, '<-' is not an assignment or comparison operator\n",
    "\n",
    "# 4. 1j*Z\n",
    "expr4 = 1j * Z  # Legal: multiplies each element by imaginary unit\n",
    "\n",
    "# 5. Z/1/1\n",
    "expr5 = Z / 1 / 1  # Legal: element-wise division\n",
    "\n",
    "# 6. Z<Z>Z\n",
    "# Not legal in Python, chained comparison must be like (Z < Z) & (Z > Z), but Z<Z>Z is invalid syntax\n",
    "\n",
    "print(\"Z**Z:\", expr1)\n",
    "print(\"2 << Z >> 2:\", expr2)\n",
    "print(\"1j*Z:\", expr4)\n",
    "print(\"Z/1/1:\", expr5)"
   ]
  },
  {
   "cell_type": "markdown",
   "id": "9648635e",
   "metadata": {},
   "source": [
    "28. What are the result of the following expressions? "
   ]
  },
  {
   "cell_type": "code",
   "execution_count": 23,
   "id": "33b17651",
   "metadata": {},
   "outputs": [
    {
     "name": "stdout",
     "output_type": "stream",
     "text": [
      "nan\n",
      "0\n",
      "[-9.22337204e+18]\n"
     ]
    },
    {
     "name": "stderr",
     "output_type": "stream",
     "text": [
      "C:\\Users\\windo\\AppData\\Local\\Temp\\ipykernel_16428\\3912170336.py:1: RuntimeWarning: invalid value encountered in divide\n",
      "  print(np.array(0) / np.array(0))\n",
      "C:\\Users\\windo\\AppData\\Local\\Temp\\ipykernel_16428\\3912170336.py:2: RuntimeWarning: divide by zero encountered in floor_divide\n",
      "  print(np.array(0) // np.array(0))\n",
      "C:\\Users\\windo\\AppData\\Local\\Temp\\ipykernel_16428\\3912170336.py:3: RuntimeWarning: invalid value encountered in cast\n",
      "  print(np.array([np.nan]).astype(int).astype(float))\n"
     ]
    }
   ],
   "source": [
    "print(np.array(0) / np.array(0))\n",
    "print(np.array(0) // np.array(0))\n",
    "print(np.array([np.nan]).astype(int).astype(float))"
   ]
  },
  {
   "cell_type": "markdown",
   "id": "212c3d11",
   "metadata": {},
   "source": [
    "29. How to round away from zero a float array ?"
   ]
  },
  {
   "cell_type": "code",
   "execution_count": 24,
   "id": "60fb937c",
   "metadata": {},
   "outputs": [
    {
     "name": "stdout",
     "output_type": "stream",
     "text": [
      "[-2. -1.  1.  2.  3. -3.]\n"
     ]
    }
   ],
   "source": [
    "# To round away from zero, use np.copysign and np.ceil on the absolute values\n",
    "float_array = np.array([-1.7, -0.2, 0.2, 1.7, 2.5, -2.5])\n",
    "\n",
    "rounded_away = np.copysign(np.ceil(np.abs(float_array)), float_array)\n",
    "print(rounded_away)"
   ]
  },
  {
   "cell_type": "markdown",
   "id": "84234f7f",
   "metadata": {},
   "source": [
    "30. How to find common values between two arrays?"
   ]
  },
  {
   "cell_type": "code",
   "execution_count": 25,
   "id": "a76c8182",
   "metadata": {},
   "outputs": [
    {
     "name": "stdout",
     "output_type": "stream",
     "text": [
      "[3 4]\n"
     ]
    }
   ],
   "source": [
    "# To find common values between two arrays, use np.intersect1d\n",
    "array1 = np.array([1, 2, 3, 4])\n",
    "array2 = np.array([3, 4, 5, 6])\n",
    "\n",
    "common_values = np.intersect1d(array1, array2)\n",
    "print(common_values)"
   ]
  },
  {
   "cell_type": "markdown",
   "id": "c23dd067",
   "metadata": {},
   "source": [
    "31. How to ignore all numpy warnings (not recommended)?"
   ]
  },
  {
   "cell_type": "code",
   "execution_count": 26,
   "id": "3a5c0dab",
   "metadata": {},
   "outputs": [],
   "source": [
    "import warnings\n",
    "\n",
    "warnings.filterwarnings('ignore')"
   ]
  },
  {
   "cell_type": "markdown",
   "id": "6e331bab",
   "metadata": {},
   "source": [
    "32. Is the following expressions true?"
   ]
  },
  {
   "cell_type": "code",
   "execution_count": 27,
   "id": "6edeaaa8",
   "metadata": {},
   "outputs": [
    {
     "name": "stdout",
     "output_type": "stream",
     "text": [
      "False\n"
     ]
    }
   ],
   "source": [
    "print(np.sqrt(-1) == np.emath.sqrt(-1))"
   ]
  },
  {
   "cell_type": "markdown",
   "id": "aca0c76d",
   "metadata": {},
   "source": [
    "33. How to get the dates of yesterday, today and tomorrow?"
   ]
  },
  {
   "cell_type": "code",
   "execution_count": 28,
   "id": "316ca592",
   "metadata": {},
   "outputs": [
    {
     "name": "stdout",
     "output_type": "stream",
     "text": [
      "Yesterday: 2025-09-08\n",
      "Today: 2025-09-09\n",
      "Tomorrow: 2025-09-10\n"
     ]
    }
   ],
   "source": [
    "import numpy as np\n",
    "\n",
    "today = np.datetime64('today', 'D')\n",
    "yesterday = today - np.timedelta64(1, 'D')\n",
    "tomorrow = today + np.timedelta64(1, 'D')\n",
    "\n",
    "print(\"Yesterday:\", yesterday)\n",
    "print(\"Today:\", today)\n",
    "print(\"Tomorrow:\", tomorrow)"
   ]
  },
  {
   "cell_type": "markdown",
   "id": "77df4496",
   "metadata": {},
   "source": [
    "34. How to get all the dates corresponding to the month of July 2016?"
   ]
  },
  {
   "cell_type": "code",
   "execution_count": 29,
   "id": "1d47cefe",
   "metadata": {},
   "outputs": [
    {
     "name": "stdout",
     "output_type": "stream",
     "text": [
      "['2016-07-01' '2016-07-02' '2016-07-03' '2016-07-04' '2016-07-05'\n",
      " '2016-07-06' '2016-07-07' '2016-07-08' '2016-07-09' '2016-07-10'\n",
      " '2016-07-11' '2016-07-12' '2016-07-13' '2016-07-14' '2016-07-15'\n",
      " '2016-07-16' '2016-07-17' '2016-07-18' '2016-07-19' '2016-07-20'\n",
      " '2016-07-21' '2016-07-22' '2016-07-23' '2016-07-24' '2016-07-25'\n",
      " '2016-07-26' '2016-07-27' '2016-07-28' '2016-07-29' '2016-07-30'\n",
      " '2016-07-31']\n"
     ]
    }
   ],
   "source": [
    "# Get all dates for July 2016\n",
    "july_2016 = np.arange('2016-07-01', '2016-08-01', dtype='datetime64[D]')\n",
    "print(july_2016)"
   ]
  },
  {
   "cell_type": "markdown",
   "id": "9483d0a2",
   "metadata": {},
   "source": [
    "35. How to compute ((A+B)*(-A/2)) in place (without copy)?"
   ]
  },
  {
   "cell_type": "markdown",
   "id": "1a6fc9ce",
   "metadata": {},
   "source": [
    "36. Extract the integer part of a random array of positive numbers using 4 different methods "
   ]
  },
  {
   "cell_type": "code",
   "execution_count": 32,
   "id": "e027f3bd",
   "metadata": {},
   "outputs": [
    {
     "name": "stdout",
     "output_type": "stream",
     "text": [
      "Original array: [1.67523591 1.52284164 5.33590738 7.94404486 8.81411395 3.42571807\n",
      " 7.65019759 9.24998066 2.17817364 5.30721294]\n",
      "Using np.floor: [1. 1. 5. 7. 8. 3. 7. 9. 2. 5.]\n",
      "Using np.trunc: [1. 1. 5. 7. 8. 3. 7. 9. 2. 5.]\n",
      "Using astype(int): [1 1 5 7 8 3 7 9 2 5]\n",
      "Using np.modf: [1. 1. 5. 7. 8. 3. 7. 9. 2. 5.]\n"
     ]
    }
   ],
   "source": [
    "# Generate a random array of positive numbers\n",
    "rand_arr = np.random.uniform(0, 10, 10)\n",
    "print(\"Original array:\", rand_arr)\n",
    "\n",
    "# Method 1: Using np.floor\n",
    "int_part1 = np.floor(rand_arr)\n",
    "print(\"Using np.floor:\", int_part1)\n",
    "\n",
    "# Method 2: Using np.trunc\n",
    "int_part2 = np.trunc(rand_arr)\n",
    "print(\"Using np.trunc:\", int_part2)\n",
    "\n",
    "# Method 3: Using astype(int)\n",
    "int_part3 = rand_arr.astype(int)\n",
    "print(\"Using astype(int):\", int_part3)\n",
    "\n",
    "# Method 4: Using np.modf (returns fractional and integer parts)\n",
    "frac_part, int_part4 = np.modf(rand_arr)\n",
    "print(\"Using np.modf:\", int_part4)"
   ]
  },
  {
   "cell_type": "markdown",
   "id": "21498945",
   "metadata": {},
   "source": [
    "37. Create a 5x5 matrix with row values ranging from 0 to 4"
   ]
  },
  {
   "cell_type": "code",
   "execution_count": 33,
   "id": "f285a600",
   "metadata": {},
   "outputs": [
    {
     "name": "stdout",
     "output_type": "stream",
     "text": [
      "[[0 1 2 3 4]\n",
      " [0 1 2 3 4]\n",
      " [0 1 2 3 4]\n",
      " [0 1 2 3 4]\n",
      " [0 1 2 3 4]]\n"
     ]
    }
   ],
   "source": [
    "# Create a 5x5 matrix with row values ranging from 0 to 4\n",
    "matrix = np.tile(np.arange(5), (5, 1))\n",
    "print(matrix)"
   ]
  },
  {
   "cell_type": "markdown",
   "id": "c0198356",
   "metadata": {},
   "source": [
    "38. Consider a generator function that generates 10 integers and use it to build an array"
   ]
  },
  {
   "cell_type": "code",
   "execution_count": 34,
   "id": "235d499a",
   "metadata": {},
   "outputs": [
    {
     "name": "stdout",
     "output_type": "stream",
     "text": [
      "[0 1 2 3 4 5 6 7 8 9]\n"
     ]
    }
   ],
   "source": [
    "# Define a generator function that yields 10 integers (e.g., 0 to 9)\n",
    "def gen_10_integers():\n",
    "    for i in range(10):\n",
    "        yield i\n",
    "\n",
    "# Use the generator to build a numpy array\n",
    "arr_from_gen = np.fromiter(gen_10_integers(), dtype=int)\n",
    "print(arr_from_gen)"
   ]
  },
  {
   "cell_type": "markdown",
   "id": "7a18f8b4",
   "metadata": {},
   "source": [
    "39. Create a vector of size 10 with values ranging from 0 to 1, both excluded"
   ]
  },
  {
   "cell_type": "code",
   "execution_count": 35,
   "id": "a4ecc0ef",
   "metadata": {},
   "outputs": [
    {
     "name": "stdout",
     "output_type": "stream",
     "text": [
      "[0.09090909 0.18181818 0.27272727 0.36363636 0.45454545 0.54545455\n",
      " 0.63636364 0.72727273 0.81818182 0.90909091]\n"
     ]
    }
   ],
   "source": [
    "# Create a vector of size 10 with values ranging from 0 to 1, both excluded\n",
    "vec = np.linspace(0, 1, 12)[1:-1]\n",
    "print(vec)"
   ]
  },
  {
   "cell_type": "markdown",
   "id": "c5f2d0f4",
   "metadata": {},
   "source": [
    "40. Create a random vector of size 10 and sort it"
   ]
  },
  {
   "cell_type": "code",
   "execution_count": 36,
   "id": "0291aba2",
   "metadata": {},
   "outputs": [
    {
     "name": "stdout",
     "output_type": "stream",
     "text": [
      "Random Vector: [0.87819936 0.1000688  0.91736074 0.76569017 0.39757875 0.9396758\n",
      " 0.3807288  0.42536893 0.16583305 0.34308523]\n",
      "Sorted Vector: [0.1000688  0.16583305 0.34308523 0.3807288  0.39757875 0.42536893\n",
      " 0.76569017 0.87819936 0.91736074 0.9396758 ]\n"
     ]
    }
   ],
   "source": [
    "# Create a random vector of size 10\n",
    "random_vec = np.random.rand(10)\n",
    "\n",
    "# Sort the vector\n",
    "sorted_vec = np.sort(random_vec)\n",
    "\n",
    "print(\"Random Vector:\", random_vec)\n",
    "print(\"Sorted Vector:\", sorted_vec)"
   ]
  },
  {
   "cell_type": "markdown",
   "id": "675c6456",
   "metadata": {},
   "source": [
    "41. How to sum a small array faster than np.sum?"
   ]
  },
  {
   "cell_type": "code",
   "execution_count": 37,
   "id": "7c65a412",
   "metadata": {},
   "outputs": [
    {
     "name": "stdout",
     "output_type": "stream",
     "text": [
      "45\n"
     ]
    }
   ],
   "source": [
    "# For small arrays, Python's built-in sum() is often faster than np.sum()\n",
    "small_array = np.arange(10)\n",
    "fast_sum = sum(small_array)\n",
    "print(fast_sum)"
   ]
  },
  {
   "cell_type": "markdown",
   "id": "319aecf1",
   "metadata": {},
   "source": [
    "42. Consider two random array A and B, check if they are equal"
   ]
  },
  {
   "cell_type": "code",
   "execution_count": 38,
   "id": "6d6c9715",
   "metadata": {},
   "outputs": [
    {
     "name": "stdout",
     "output_type": "stream",
     "text": [
      "Are A and B equal? False\n"
     ]
    }
   ],
   "source": [
    "# Check if arrays A and B are equal in shape and elements\n",
    "are_equal = np.array_equal(A, B)\n",
    "print(\"Are A and B equal?\", are_equal)"
   ]
  },
  {
   "cell_type": "markdown",
   "id": "66090461",
   "metadata": {},
   "source": [
    "43. Make an array immutable (read-only)"
   ]
  },
  {
   "cell_type": "code",
   "execution_count": 39,
   "id": "46d26e20",
   "metadata": {},
   "outputs": [
    {
     "name": "stdout",
     "output_type": "stream",
     "text": [
      "Is array writeable? False\n"
     ]
    }
   ],
   "source": [
    "# Make an array immutable (read-only)\n",
    "arr_readonly = A.copy()\n",
    "arr_readonly.flags.writeable = False\n",
    "print(\"Is array writeable?\", arr_readonly.flags.writeable)"
   ]
  },
  {
   "cell_type": "markdown",
   "id": "cc20ccec",
   "metadata": {},
   "source": [
    "44. Consider a random 10x2 matrix representing cartesian coordinates, convert them to polar coordinates"
   ]
  },
  {
   "cell_type": "code",
   "execution_count": 40,
   "id": "8202e688",
   "metadata": {},
   "outputs": [
    {
     "name": "stdout",
     "output_type": "stream",
     "text": [
      "Cartesian coordinates:\n",
      " [[0.38223398 0.70232493]\n",
      " [0.9638341  0.9228876 ]\n",
      " [0.63525677 0.26466418]\n",
      " [0.57283334 0.86749327]\n",
      " [0.43208466 0.03794505]\n",
      " [0.95578591 0.85254853]\n",
      " [0.25784416 0.55066176]\n",
      " [0.04335872 0.87737829]\n",
      " [0.09937545 0.22367133]\n",
      " [0.86335008 0.77496052]]\n",
      "\n",
      "Polar coordinates (r, theta):\n",
      "r=0.7996, theta=1.0724\n",
      "r=1.3344, theta=0.7637\n",
      "r=0.6882, theta=0.3948\n",
      "r=1.0396, theta=0.9872\n",
      "r=0.4337, theta=0.0876\n",
      "r=1.2808, theta=0.7284\n",
      "r=0.6080, theta=1.1329\n",
      "r=0.8784, theta=1.5214\n",
      "r=0.2448, theta=1.1527\n",
      "r=1.1601, theta=0.7315\n"
     ]
    }
   ],
   "source": [
    "# Assume coords is a random 10x2 matrix representing cartesian coordinates\n",
    "coords = np.random.rand(10, 2)\n",
    "\n",
    "# Convert to polar coordinates\n",
    "r = np.hypot(coords[:, 0], coords[:, 1])\n",
    "theta = np.arctan2(coords[:, 1], coords[:, 0])\n",
    "\n",
    "print(\"Cartesian coordinates:\\n\", coords)\n",
    "print(\"\\nPolar coordinates (r, theta):\")\n",
    "for radius, angle in zip(r, theta):\n",
    "    print(f\"r={radius:.4f}, theta={angle:.4f}\")"
   ]
  },
  {
   "cell_type": "markdown",
   "id": "512c30bd",
   "metadata": {},
   "source": [
    "Create random vector of size 10 and replace the maximum value by 0"
   ]
  },
  {
   "cell_type": "code",
   "execution_count": 41,
   "id": "a2c150b3",
   "metadata": {},
   "outputs": [
    {
     "name": "stdout",
     "output_type": "stream",
     "text": [
      "[0.47491514 0.         0.56920467 0.56863461 0.14000625 0.66435624\n",
      " 0.55510149 0.75145026 0.5979418  0.02322197]\n"
     ]
    }
   ],
   "source": [
    "# Create a random vector of size 10\n",
    "vec10 = np.random.rand(10)\n",
    "\n",
    "# Replace the maximum value by 0\n",
    "vec10[vec10.argmax()] = 0\n",
    "\n",
    "print(vec10)"
   ]
  },
  {
   "cell_type": "markdown",
   "id": "3f504932",
   "metadata": {},
   "source": [
    "46. Create a structured array with x and y coordinates covering the [0,1]x[0,1] area"
   ]
  },
  {
   "cell_type": "code",
   "execution_count": 42,
   "id": "bcf1af3e",
   "metadata": {},
   "outputs": [
    {
     "name": "stdout",
     "output_type": "stream",
     "text": [
      "[(0.  , 0.  ) (0.25, 0.  ) (0.5 , 0.  ) (0.75, 0.  ) (1.  , 0.  )\n",
      " (0.  , 0.25) (0.25, 0.25) (0.5 , 0.25) (0.75, 0.25) (1.  , 0.25)\n",
      " (0.  , 0.5 ) (0.25, 0.5 ) (0.5 , 0.5 ) (0.75, 0.5 ) (1.  , 0.5 )\n",
      " (0.  , 0.75) (0.25, 0.75) (0.5 , 0.75) (0.75, 0.75) (1.  , 0.75)\n",
      " (0.  , 1.  ) (0.25, 1.  ) (0.5 , 1.  ) (0.75, 1.  ) (1.  , 1.  )]\n"
     ]
    }
   ],
   "source": [
    "# Create a structured array with x and y coordinates covering the [0,1]x[0,1] area\n",
    "x = np.linspace(0, 1, 5)\n",
    "y = np.linspace(0, 1, 5)\n",
    "grid = np.meshgrid(x, y)\n",
    "coords_struct = np.zeros(25, dtype=[('x', float), ('y', float)])\n",
    "coords_struct['x'] = grid[0].ravel()\n",
    "coords_struct['y'] = grid[1].ravel()\n",
    "print(coords_struct)"
   ]
  },
  {
   "cell_type": "markdown",
   "id": "85194413",
   "metadata": {},
   "source": [
    "47. Given two arrays, X and Y, construct the Cauchy matrix C (Cij =1/(xi - yj))"
   ]
  },
  {
   "cell_type": "code",
   "execution_count": 43,
   "id": "463fc8b2",
   "metadata": {},
   "outputs": [
    {
     "name": "stdout",
     "output_type": "stream",
     "text": [
      "[[-0.2        -0.16666667 -0.14285714 -0.125      -0.11111111]\n",
      " [-0.25       -0.2        -0.16666667 -0.14285714 -0.125     ]\n",
      " [-0.33333333 -0.25       -0.2        -0.16666667 -0.14285714]\n",
      " [-0.5        -0.33333333 -0.25       -0.2        -0.16666667]\n",
      " [-1.         -0.5        -0.33333333 -0.25       -0.2       ]]\n"
     ]
    }
   ],
   "source": [
    "# Assume X and Y are 1D numpy arrays\n",
    "X = np.array([0, 1, 2, 3, 4])\n",
    "Y = np.array([5, 6, 7, 8, 9])\n",
    "\n",
    "# Construct the Cauchy matrix: C[i, j] = 1 / (X[i] - Y[j])\n",
    "C = 1.0 / (X[:, None] - Y[None, :])\n",
    "print(C)"
   ]
  },
  {
   "cell_type": "markdown",
   "id": "f02e45f6",
   "metadata": {},
   "source": [
    "48. Print the minimum and maximum representable value for each numpy scalar type"
   ]
  },
  {
   "cell_type": "code",
   "execution_count": 44,
   "id": "583f6aa8",
   "metadata": {},
   "outputs": [
    {
     "name": "stdout",
     "output_type": "stream",
     "text": [
      "int: min=-9223372036854775808, max=9223372036854775807\n",
      "float: min=-1.7976931348623157e+308, max=1.7976931348623157e+308\n",
      "complex: min=-1.7976931348623157e+308, max=1.7976931348623157e+308\n",
      "bool: not a numeric type with min/max\n",
      "bytes: not a numeric type with min/max\n",
      "str: not a numeric type with min/max\n",
      "memoryview: not a numeric type with min/max\n",
      "bool: not a numeric type with min/max\n",
      "complex64: min=-3.4028234663852886e+38, max=3.4028234663852886e+38\n",
      "complex128: min=-1.7976931348623157e+308, max=1.7976931348623157e+308\n",
      "clongdouble: min=-1.7976931348623157e+308, max=1.7976931348623157e+308\n",
      "float16: min=-65504.0, max=65504.0\n",
      "float32: min=-3.4028234663852886e+38, max=3.4028234663852886e+38\n",
      "float64: min=-1.7976931348623157e+308, max=1.7976931348623157e+308\n",
      "longdouble: min=-1.7976931348623157e+308, max=1.7976931348623157e+308\n",
      "int8: min=-128, max=127\n",
      "int16: min=-32768, max=32767\n",
      "intc: min=-2147483648, max=2147483647\n",
      "int32: min=-2147483648, max=2147483647\n",
      "int64: min=-9223372036854775808, max=9223372036854775807\n",
      "datetime64: not a numeric type with min/max\n",
      "timedelta64: not a numeric type with min/max\n",
      "object_: not a numeric type with min/max\n",
      "bytes_: not a numeric type with min/max\n",
      "str_: not a numeric type with min/max\n",
      "uint8: min=0, max=255\n",
      "uint16: min=0, max=65535\n",
      "uintc: min=0, max=4294967295\n",
      "uint32: min=0, max=4294967295\n",
      "uint64: min=0, max=18446744073709551615\n",
      "void: not a numeric type with min/max\n"
     ]
    }
   ],
   "source": [
    "# Print the minimum and maximum representable value for each numpy scalar type\n",
    "for t in ScalarType:\n",
    "    try:\n",
    "        info = np.iinfo(t)\n",
    "        print(f\"{t.__name__}: min={info.min}, max={info.max}\")\n",
    "    except (ValueError, TypeError):\n",
    "        try:\n",
    "            info = np.finfo(t)\n",
    "            print(f\"{t.__name__}: min={info.min}, max={info.max}\")\n",
    "        except (ValueError, TypeError):\n",
    "            print(f\"{t.__name__}: not a numeric type with min/max\")"
   ]
  },
  {
   "cell_type": "markdown",
   "id": "3c540ccd",
   "metadata": {},
   "source": [
    "49. How to print all the values of an array?"
   ]
  },
  {
   "cell_type": "markdown",
   "id": "6f949ed5",
   "metadata": {},
   "source": [
    "50. How to find the closest value (to a given scalar) in a vector? "
   ]
  },
  {
   "cell_type": "code",
   "execution_count": 46,
   "id": "716f40d9",
   "metadata": {},
   "outputs": [
    {
     "name": "stdout",
     "output_type": "stream",
     "text": [
      "Closest value to 0.5 is 0.5073710415757111\n"
     ]
    }
   ],
   "source": [
    "# Given a vector and a scalar value, find the closest value in the vector to the scalar\n",
    "scalar = 0.5  # example scalar\n",
    "closest_value = vector[np.abs(vector - scalar).argmin()]\n",
    "print(\"Closest value to\", scalar, \"is\", closest_value)"
   ]
  }
 ],
 "metadata": {
  "kernelspec": {
   "display_name": "base",
   "language": "python",
   "name": "python3"
  },
  "language_info": {
   "codemirror_mode": {
    "name": "ipython",
    "version": 3
   },
   "file_extension": ".py",
   "mimetype": "text/x-python",
   "name": "python",
   "nbconvert_exporter": "python",
   "pygments_lexer": "ipython3",
   "version": "3.12.3"
  }
 },
 "nbformat": 4,
 "nbformat_minor": 5
}
